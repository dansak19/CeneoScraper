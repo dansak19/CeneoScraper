{
 "cells": [
  {
   "cell_type": "markdown",
   "metadata": {},
   "source": [
    "Imports"
   ]
  },
  {
   "cell_type": "code",
   "execution_count": 38,
   "metadata": {},
   "outputs": [],
   "source": [
    "import os\n",
    "import json\n",
    "import requests\n",
    "from bs4 import BeautifulSoup\n"
   ]
  },
  {
   "cell_type": "markdown",
   "metadata": {},
   "source": [
    "1. Send reqest for accessing first webpage with opinious about progect"
   ]
  },
  {
   "cell_type": "code",
   "execution_count": 2,
   "metadata": {},
   "outputs": [],
   "source": [
    "with open('./cookie.json', 'r', encoding='UTF-8') as jf:\n",
    "    headers= json.load(jf)"
   ]
  },
  {
   "cell_type": "markdown",
   "metadata": {},
   "source": []
  },
  {
   "cell_type": "code",
   "execution_count": 40,
   "metadata": {},
   "outputs": [
    {
     "name": "stdout",
     "output_type": "stream",
     "text": [
      "[{'opinion_id': '18882123', 'author': 'r...i', 'recommend': 'Polecam', 'stars': '4,5/5', 'content': 'Jest ok za te pieniądze to super szybko się nagrzewa tylko blacha w drzwiczkach mogła być grubsza ale jest ok', 'pros': [], 'cons': [], 'up_votes': '0', 'down_votes': '0', 'published': '2024-08-14 07:11:10', 'purchased': '2024-08-05 10:10:59'}, {'opinion_id': '19507333', 'author': 'Małgorzata', 'recommend': 'Polecam', 'stars': '5/5', 'content': 'Super cena, wysoka jakość,  grill działa już 4 lata. Teraz kupiłam koledze z pracy.', 'pros': [], 'cons': [], 'up_votes': '0', 'down_votes': '0', 'published': '2025-03-12 19:06:37', 'purchased': '2025-02-20 07:34:18'}, {'opinion_id': '18642236', 'author': 'i...t', 'recommend': 'Polecam', 'stars': '5/5', 'content': 'Produkt dobrej jakości. Jednak zapalarka na dodatkowym palniku nie podpala gazu.', 'pros': [], 'cons': [], 'up_votes': '0', 'down_votes': '0', 'published': '2024-05-13 08:35:58', 'purchased': '2024-04-18 20:22:48'}, {'opinion_id': '17340564', 'author': 'g...u', 'recommend': 'Polecam', 'stars': '5/5', 'content': 'wydaje się OK - trochę dłubania ze złożeniem', 'pros': [], 'cons': [], 'up_votes': '0', 'down_votes': '0', 'published': '2023-03-30 11:51:39', 'purchased': '2023-03-27 09:40:24'}, {'opinion_id': '18714152', 'author': 'h...a', 'recommend': 'Polecam', 'stars': '5/5', 'content': 'Grillowanie stało się przyjemnością', 'pros': [], 'cons': [], 'up_votes': '0', 'down_votes': '0', 'published': '2024-06-06 16:07:18', 'purchased': '2024-05-27 07:26:34'}, {'opinion_id': '15547497', 'author': 'Użytkownik Ceneo', 'recommend': None, 'stars': '5/5', 'content': '5,0/5', 'pros': [], 'cons': [], 'up_votes': '0', 'down_votes': '0', 'published': '2019-07-03 00:00:00', 'purchased': None}]\n"
     ]
    }
   ],
   "source": [
    "product_id = 107530595\n",
    "url = f\"https://www.ceneo.pl/{product_id}#tab=reviews\"\n",
    "while url:\n",
    "    respomse = requests.get(url, headers=headers)\n",
    "    if respomse.status_code ==200:\n",
    "        page_dom = BeautifulSoup(respomse.text, 'html.parser')\n",
    "        opinions= page_dom.select(\"div.js_product-review:not(.user-post--highlight)\")\n",
    "        all_opinion=[]\n",
    "        for opinion in opinions:\n",
    "            single_opinion = {}\n",
    "            single_opinion['opinion_id'] = opinion[\"data-entry-id\"]\n",
    "            single_opinion['author'] = opinion.select_one('span.user-post__author-name').text.strip()\n",
    "            try:\n",
    "                single_opinion['recommend'] = opinion.select_one('span.user-post__author-recomendation > em').text.strip()\n",
    "            except AttributeError:\n",
    "                single_opinion[\"recommend\"]=None\n",
    "            single_opinion['stars'] = opinion.select_one('span.user-post__score-count').text.strip()\n",
    "            single_opinion['content'] = opinion.select_one('div.user-post__text').text.strip()\n",
    "            single_opinion['pros'] = [tag.text.strip() for tag in opinion.select(\"div.review-feature__title--positives\")]\n",
    "            single_opinion['cons'] = [tag.text.strip() for tag in opinion.select('div.review-feature__title--negatives')]\n",
    "            single_opinion['up_votes'] = opinion.select_one('button.vote-yes')['data-total-vote'].strip()\n",
    "            single_opinion['down_votes'] = opinion.select_one('button.vote-no')['data-total-vote'].strip()\n",
    "            single_opinion['published'] = opinion.select_one('span.user-post__published > time:nth-child(1)')['datetime'].strip()\n",
    "            try:\n",
    "                single_opinion['purchased'] = opinion.select_one('span.user-post__published > time:nth-child(2)')['datetime'].strip()\n",
    "            except TypeError:\n",
    "                single_opinion['purchased']=None\n",
    "            all_opinion.append(single_opinion)\n",
    "        \n",
    "        try:\n",
    "            url = \"https://www.ceneo.pl\"+ page_dom.select_one(\"a.pagination__next\")[\"href\"]\n",
    "        except TypeError:\n",
    "            url = None\n",
    "\n",
    "print(all_opinion)\n",
    "      "
   ]
  },
  {
   "cell_type": "code",
   "execution_count": 39,
   "metadata": {},
   "outputs": [],
   "source": [
    "if not os.path.exists(\"./opinions\"):\n",
    "    os.mkdir(\"./opinions\")"
   ]
  },
  {
   "cell_type": "code",
   "execution_count": 41,
   "metadata": {},
   "outputs": [],
   "source": [
    "with open(f\"./opinions{product_id}.json\", \"w\", encoding=\"UTF-8\") as jf:\n",
    "    json.dump(all_opinion, jf, indent=4, ensure_ascii=False)"
   ]
  },
  {
   "cell_type": "code",
   "execution_count": null,
   "metadata": {},
   "outputs": [],
   "source": []
  }
 ],
 "metadata": {
  "kernelspec": {
   "display_name": ".venv",
   "language": "python",
   "name": "python3"
  },
  "language_info": {
   "codemirror_mode": {
    "name": "ipython",
    "version": 3
   },
   "file_extension": ".py",
   "mimetype": "text/x-python",
   "name": "python",
   "nbconvert_exporter": "python",
   "pygments_lexer": "ipython3",
   "version": "3.11.4"
  }
 },
 "nbformat": 4,
 "nbformat_minor": 2
}

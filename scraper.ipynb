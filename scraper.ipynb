{
 "cells": [
  {
   "cell_type": "markdown",
   "metadata": {},
   "source": [
    "Imports"
   ]
  },
  {
   "cell_type": "code",
   "execution_count": 29,
   "metadata": {},
   "outputs": [],
   "source": [
    "import os\n",
    "import json\n",
    "import requests\n",
    "from bs4 import BeautifulSoup\n",
    "# from deep_translator import GoogleTranslator\n",
    "import datetime"
   ]
  },
  {
   "cell_type": "markdown",
   "metadata": {},
   "source": [
    "Utils"
   ]
  },
  {
   "cell_type": "code",
   "execution_count": 30,
   "metadata": {},
   "outputs": [],
   "source": [
    "def translate(text, source='pl', target='en'):\n",
    "    # return GoogleTranslator(source, target).translate(text)\n",
    "    return "
   ]
  },
  {
   "cell_type": "code",
   "execution_count": 31,
   "metadata": {},
   "outputs": [],
   "source": [
    "def extract(ancestor, selector=None, attribute=None, multiple=False):\n",
    "    if selector:\n",
    "        if multiple:\n",
    "            if attribute:\n",
    "                return [tag[attribute].strip() for tag in ancestor.select(selector)]\n",
    "            return [tag.text.strip() for tag in ancestor.select(selector)]\n",
    "        if attribute:\n",
    "            try:\n",
    "                return ancestor.select_one(selector)[attribute].strip()\n",
    "            except TypeError:\n",
    "                return None\n",
    "        try: \n",
    "            return ancestor.select_one(selector).text.strip()\n",
    "        except AttributeError:\n",
    "            return None\n",
    "    if attribute:\n",
    "        return ancestor[attribute]\n",
    "    return ancestor.text.strip()"
   ]
  },
  {
   "cell_type": "code",
   "execution_count": 32,
   "metadata": {},
   "outputs": [],
   "source": [
    "selectors={\n",
    "    'opinion_id':(None, \"data-entry-id\"),\n",
    "    'author':( 'span.user-post__author-name',),\n",
    "    'stars':('span.user-post__score-count',),\n",
    "    'content_pl':('div.user-post__text',),\n",
    "    'recommend' :('span.user-post__author-recomendation > em',),\n",
    "    'pros':(\"div.review-feature__title--positives\", None,True),\n",
    "    'cons':('div.review-feature__title--negatives', None, True),\n",
    "    'up_votes':('button.vote-yes','data-total-vote'),\n",
    "    'down_votes':('button.vote-no','data-total-vote'),\n",
    "    'purchased' :('span.user-post__published > time:nth-child(2)','datetime'),\n",
    "    'published':('span.user-post__published > time:nth-child(1)','datetime'),\n",
    "}"
   ]
  },
  {
   "cell_type": "markdown",
   "metadata": {},
   "source": [
    "1. Send reqest for accessing first webpage with opinious about progect"
   ]
  },
  {
   "cell_type": "code",
   "execution_count": 40,
   "metadata": {},
   "outputs": [],
   "source": [
    "with open('./cookie.json', 'r', encoding='UTF-8') as jf:\n",
    "    headers= json.load(jf)"
   ]
  },
  {
   "cell_type": "markdown",
   "metadata": {},
   "source": []
  },
  {
   "cell_type": "code",
   "execution_count": 51,
   "metadata": {},
   "outputs": [
    {
     "name": "stdout",
     "output_type": "stream",
     "text": [
      "[{'opinion_id': '14349166', 'author': 'j...z', 'stars': '5/5', 'content_pl': 'Super jakość', 'recommend': True, 'pros': [], 'cons': [], 'up_votes': 0, 'down_votes': 1, 'purchased': '2021-04-20 14:02:16', 'published': '2021-04-23 20:34:21', 'content_en': 'Super jakość', 'pros_en': [], 'cons_en': []}, {'opinion_id': '12408528', 'author': 'Użytkownik Ceneo', 'stars': '5/5', 'content_pl': 'Wszystko ok', 'recommend': True, 'pros': [], 'cons': [], 'up_votes': 0, 'down_votes': 1, 'purchased': '2020-04-27 22:19:06', 'published': '2020-05-12 22:02:41', 'content_en': 'Wszystko ok', 'pros_en': [], 'cons_en': []}, {'opinion_id': '16262596', 'author': 's...e', 'stars': '4,5/5', 'content_pl': 'Ok', 'recommend': True, 'pros': [], 'cons': [], 'up_votes': 0, 'down_votes': 0, 'purchased': '2022-05-27 14:22:24', 'published': '2022-06-29 09:38:56', 'content_en': 'Ok', 'pros_en': [], 'cons_en': []}, {'opinion_id': '16142505', 'author': 'g...6', 'stars': '5/5', 'content_pl': 'Ok', 'recommend': True, 'pros': [], 'cons': [], 'up_votes': 0, 'down_votes': 0, 'purchased': '2022-04-27 14:30:07', 'published': '2022-05-28 12:02:52', 'content_en': 'Ok', 'pros_en': [], 'cons_en': []}, {'opinion_id': '16106126', 'author': 'k...i', 'stars': '5/5', 'content_pl': 'Ok', 'recommend': True, 'pros': [], 'cons': [], 'up_votes': 0, 'down_votes': 0, 'purchased': '2022-05-10 13:46:05', 'published': '2022-05-19 21:36:27', 'content_en': 'Ok', 'pros_en': [], 'cons_en': []}, {'opinion_id': '12345030', 'author': 'Użytkownik Ceneo', 'stars': '5/5', 'content_pl': 'Ok', 'recommend': True, 'pros': [], 'cons': [], 'up_votes': 0, 'down_votes': 1, 'purchased': '2020-04-21 21:22:01', 'published': '2020-05-05 21:36:47', 'content_en': 'Ok', 'pros_en': [], 'cons_en': []}, {'opinion_id': '10605139', 'author': 'Użytkownik Ceneo', 'stars': '5/5', 'content_pl': '5,0/5', 'recommend': None, 'pros': [], 'cons': [], 'up_votes': 0, 'down_votes': 0, 'purchased': None, 'published': '2019-06-01 18:03:38', 'content_en': '5,0/5', 'pros_en': [], 'cons_en': []}]\n"
     ]
    }
   ],
   "source": [
    "\n",
    "product_id = input(\"Please enter code\")\n",
    "url = f\"https://www.ceneo.pl/{product_id}#tab=reviews\"\n",
    "while url:\n",
    "    respomse = requests.get(url, headers=headers)\n",
    "    if respomse.status_code ==200:\n",
    "        page_dom = BeautifulSoup(respomse.text, 'html.parser')\n",
    "        opinions= page_dom.select(\"div.js_product-review:not(.user-post--highlight)\")\n",
    "        all_opinion=[]\n",
    "        for opinion in opinions:\n",
    "            single_opinion = {\n",
    "                key: extract(opinion, *values)\n",
    "                for key, values in selectors.items()\n",
    "            }\n",
    "            single_opinion['content_en']=(single_opinion['content_pl'])\n",
    "            single_opinion['pros_en']=[(pros) for pros in single_opinion['pros']]\n",
    "            single_opinion['cons_en']=[(cons) for cons in single_opinion['cons']]\n",
    "            single_opinion['recommend']=True if single_opinion['recommend']==\"Polecam\" else False if single_opinion['recommend']==\" Nie polecam\" else None\n",
    "            # single_opinion['stars'] = float(single_opinion('stars').split(\"/\")[0].replace(\",\",\".\"))\n",
    "            # single_opinion['published'] = datetime.datetime.fromisoformat(single_opinion['published'])\n",
    "            # single_opinion['purchased'] = datetime.datetime.fromisoformat(single_opinion['purchased']) if  single_opinion['purchased'] else None\n",
    "            single_opinion['up_votes'] = int(single_opinion['up_votes'])\n",
    "            single_opinion['down_votes'] = int(single_opinion['down_votes'])\n",
    "            all_opinion.append(single_opinion)\n",
    "        try:\n",
    "            url = \"https://www.ceneo.pl\"+ page_dom.select_one(\"a.pagination__next\")[\"href\"]\n",
    "        except TypeError:\n",
    "            url = None\n",
    "\n",
    "print(all_opinion)\n",
    "      "
   ]
  },
  {
   "cell_type": "code",
   "execution_count": 52,
   "metadata": {},
   "outputs": [],
   "source": [
    "for single_opinion in all_opinion:\n",
    "    try:\n",
    "        single_opinion['published'] = single_opinion['published'].strftime(\"%Y-%m-%d, %H:%M:%S\") if single_opinion['published'] else None\n",
    "    except AttributeError:\n",
    "        pass\n",
    "    try:\n",
    "        single_opinion['purchased'] = single_opinion['purchased'].strftime(\"%Y-%m-%d, %H:%M:%S\") if single_opinion['purchased'] else None\n",
    "    except AttributeError:\n",
    "        pass\n",
    "    \n"
   ]
  },
  {
   "cell_type": "markdown",
   "metadata": {},
   "source": [
    "Creating DB"
   ]
  },
  {
   "cell_type": "code",
   "execution_count": 53,
   "metadata": {},
   "outputs": [],
   "source": [
    "if not os.path.exists(\"./opinions\"):\n",
    "    os.mkdir(\"./opinions\")"
   ]
  },
  {
   "cell_type": "code",
   "execution_count": 54,
   "metadata": {},
   "outputs": [],
   "source": [
    "with open(f\"./opinions/{product_id}.json\", \"w\", encoding=\"UTF-8\") as jf:\n",
    "    json.dump(all_opinion, jf, indent=4, ensure_ascii=False)"
   ]
  },
  {
   "cell_type": "code",
   "execution_count": null,
   "metadata": {},
   "outputs": [],
   "source": []
  }
 ],
 "metadata": {
  "kernelspec": {
   "display_name": ".venv",
   "language": "python",
   "name": "python3"
  },
  "language_info": {
   "codemirror_mode": {
    "name": "ipython",
    "version": 3
   },
   "file_extension": ".py",
   "mimetype": "text/x-python",
   "name": "python",
   "nbconvert_exporter": "python",
   "pygments_lexer": "ipython3",
   "version": "3.11.4"
  }
 },
 "nbformat": 4,
 "nbformat_minor": 2
}
